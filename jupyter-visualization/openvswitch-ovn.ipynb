{
 "cells": [
  {
   "cell_type": "markdown",
   "metadata": {},
   "source": [
    "## Using Jupyter Notebook to display Open vSwitch OVN topology\n",
    "---"
   ]
  },
  {
   "cell_type": "markdown",
   "metadata": {},
   "source": [
    "### Running Jupyter in a container\n",
    "\n",
    "Dockerfile.ovn\n",
    "```docker\n",
    "FROM jupyter/minimal-notebook\n",
    "\n",
    "RUN conda install -y ipywidgets matplotlib networkx && \\\n",
    "    pip install py2cytoscape && \\\n",
    "    pip install ovsdbapp visJS2jupyter\n",
    "```\n",
    "\n",
    "Build and start the container\n",
    "```bash\n",
    "sudo docker build -t jupyter-ovn -f Dockerfile.ovn .\n",
    "sudo docker run --rm -d -p 8888:8888 jupyter-ovn start-notebook.sh --NotebookApp.token=''\n",
    "```\n",
    "\n",
    "---"
   ]
  },
  {
   "cell_type": "code",
   "execution_count": 1,
   "metadata": {},
   "outputs": [],
   "source": [
    "%matplotlib inline\n",
    "import ovsdbapp.backend.ovs_idl.connection\n",
    "from ovsdbapp.schema.ovn_northbound.impl_idl import OvnNbApiIdlImpl\n",
    "import networkx as nx\n",
    "import matplotlib.pyplot as plt\n",
    "import visJS2jupyter.visJS_module\n",
    "import visJS2jupyter.visualizations\n",
    "import ipywidgets as widgets"
   ]
  },
  {
   "cell_type": "markdown",
   "metadata": {},
   "source": [
    "#### Determining RowView Object parameters\n",
    "\n",
    "The easiest way to determine the available parameters per logical router or switch was to run the\n",
    "commands below.\n",
    "\n",
    "```\n",
    "ovn-nbctl list Logical_Router_Port\n",
    "ovn-nbctl list Logical_Switch_Port\n",
    "ovn-nbctl list Logical_Router_Static_Route\n",
    "```\n",
    "\n",
    "---"
   ]
  },
  {
   "cell_type": "markdown",
   "metadata": {},
   "source": [
    "#### OVN Logical Router\n",
    "\n",
    "List all the `Logical_Router` and `Logical_Router_Port`.\n",
    "\n",
    "---"
   ]
  },
  {
   "cell_type": "code",
   "execution_count": 2,
   "metadata": {},
   "outputs": [],
   "source": [
    "def routers(idl, graph):\n",
    "    router_ports = []\n",
    "    for router in idl.lr_list().execute():\n",
    "        graph.add_node(router.name)\n",
    "        for port in router.ports:\n",
    "            router_ports.append({'router': router.name, 'port': port.name, 'networks': port.networks})\n",
    "            \n",
    "    return router_ports"
   ]
  },
  {
   "cell_type": "markdown",
   "metadata": {},
   "source": [
    "#### OVN Logical Switch\n",
    "\n",
    "List all the `Logical_Switch` and `Logical_Switch_Ports`.  If the port type is `router` `add_edge` from the switch to the `router`.  If type is `localnet` in this case its a Layer 2 gateway.  If the type is an empty string then its an endpoint e.g. virtual machine, container, physical node.\n",
    "\n",
    "---"
   ]
  },
  {
   "cell_type": "code",
   "execution_count": 3,
   "metadata": {},
   "outputs": [],
   "source": [
    "def switches(idl, graph, router_ports):\n",
    "    for switch in idl.ls_list().execute():\n",
    "        graph.add_node(switch.name)\n",
    "        for port in switch.ports:\n",
    "            if port.type == \"router\":\n",
    "                router_port = port.options['router-port']\n",
    "                r = next(item for item in router_ports if item[\"port\"] == router_port)\n",
    "                graph.add_edge(switch.name, r[\"router\"], network=str(r[\"networks\"]))\n",
    "            if port.type == \"localnet\":\n",
    "                graph.add_node(port.name)\n",
    "                graph.add_edge(switch.name, port.name, network='')\n",
    "            # If type is blank this is most likely an endpoint e.g. virtual machine, container, physical node \n",
    "            if port.type == \"\":\n",
    "                graph.add_node(port.name)\n",
    "                graph.add_edge(switch.name, port.name, network='')"
   ]
  },
  {
   "cell_type": "markdown",
   "metadata": {},
   "source": [
    "#### Render networkx graph using visJS2jupyter"
   ]
  },
  {
   "cell_type": "code",
   "execution_count": 4,
   "metadata": {},
   "outputs": [],
   "source": [
    "def render_graph(graph):\n",
    "    graph_title = 'Open Virtual Network Topology'\n",
    "    pos = nx.circular_layout(graph)\n",
    "    nodes = graph.nodes()\n",
    "    edges = graph.edges()\n",
    "    nodes_dict = [{\"id\":n,\n",
    "                   \"degree\":nx.degree(graph,n),\n",
    "                  \"x\":pos[n][0]*1000,\n",
    "                  \"y\":pos[n][1]*1000} for n in nodes\n",
    "                  ]\n",
    "\n",
    "    network = nx.get_edge_attributes(graph, 'network')\n",
    "\n",
    "    node_map = dict(zip(nodes,range(len(nodes))))\n",
    "    edges_dict = [{\"source\":node_map[x], \"target\":node_map[y], \n",
    "                  \"id\":network[(x,y)]} for x,y in edges]\n",
    "\n",
    "    return visJS2jupyter.visJS_module.visjs_network(nodes_dict, edges_dict,\n",
    "                                             graph_title=graph_title, graph_width=800, graph_height=800,\n",
    "                                             border_color='black',\n",
    "                                             node_size_multiplier=7,\n",
    "                                             node_size_transform = '',\n",
    "                                             node_color_highlight_border='red',\n",
    "                                             node_color_highlight_background='#D3918B',\n",
    "                                             node_color_hover_border='blue',\n",
    "                                             node_color_hover_background='#8BADD3',\n",
    "                                             node_font_size=25,\n",
    "                                             edge_arrow_to=False,\n",
    "                                             physics_enabled=True,\n",
    "                                             edge_color_highlight='#8A324E',\n",
    "                                             edge_color_hover='#8BADD3',\n",
    "                                             edge_width=3,\n",
    "                                             edge_font_align='top',\n",
    "                                             edge_font_size=12,\n",
    "                                             max_velocity=15,\n",
    "                                             min_velocity=1)"
   ]
  },
  {
   "cell_type": "code",
   "execution_count": 5,
   "metadata": {},
   "outputs": [],
   "source": [
    "text = widgets.Text(description=\"northd:\", value='172.30.1.10', width=200)\n",
    "button = widgets.Button(description=\"Connect\")"
   ]
  },
  {
   "cell_type": "code",
   "execution_count": 6,
   "metadata": {
    "scrolled": false
   },
   "outputs": [
    {
     "data": {
      "application/vnd.jupyter.widget-view+json": {
       "model_id": "02ac497c04ee4649a5a41245cbde26ac",
       "version_major": 2,
       "version_minor": 0
      },
      "text/html": [
       "<p>Failed to display Jupyter Widget of type <code>HBox</code>.</p>\n",
       "<p>\n",
       "  If you're reading this message in the Jupyter Notebook or JupyterLab Notebook, it may mean\n",
       "  that the widgets JavaScript is still loading. If this message persists, it\n",
       "  likely means that the widgets JavaScript library is either not installed or\n",
       "  not enabled. See the <a href=\"https://ipywidgets.readthedocs.io/en/stable/user_install.html\">Jupyter\n",
       "  Widgets Documentation</a> for setup instructions.\n",
       "</p>\n",
       "<p>\n",
       "  If you're reading this message in another frontend (for example, a static\n",
       "  rendering on GitHub or <a href=\"https://nbviewer.jupyter.org/\">NBViewer</a>),\n",
       "  it may mean that your frontend doesn't currently support widgets.\n",
       "</p>\n"
      ],
      "text/plain": [
       "HBox(children=(Text(value='172.30.1.10', description='northd:'), Button(description='Connect', style=ButtonStyle())))"
      ]
     },
     "metadata": {},
     "output_type": "display_data"
    },
    {
     "data": {
      "text/html": [
       "<!doctype html><html><head>  <title>Network | Basic usage</title></head><body><script type=\"text/javascript\">function setUpFrame() {     var frame = window.frames[\"style_file0\"];    frame.runVis([{\"id\": \"gr0\", \"degree\": 2, \"x\": 999.9999808269097, \"y\": 1.9272299651099907e-05, \"node_shape\": \"dot\", \"color\": \"#8BA8D3\", \"border_width\": 0, \"title\": \"gr0\"}, {\"id\": \"r0\", \"degree\": 4, \"x\": 951.0565217825223, \"y\": 309.0170158993815, \"node_shape\": \"dot\", \"color\": \"#8BA8D3\", \"border_width\": 0, \"title\": \"r0\"}, {\"id\": \"sw50\", \"degree\": 8, \"x\": 809.0169870901412, \"y\": 587.7852519323634, \"node_shape\": \"dot\", \"color\": \"#8BA8D3\", \"border_width\": 0, \"title\": \"sw50\"}, {\"id\": \"181bd06d-4cd3-416d-a443-0e73ee69f0aa\", \"degree\": 1, \"x\": 587.7852327592731, \"y\": 809.0170062632316, \"node_shape\": \"dot\", \"color\": \"#8BA8D3\", \"border_width\": 0, \"title\": \"181bd06d-4cd3-416d-a443-0e73ee69f0aa\"}, {\"id\": \"2a396a90-a763-4767-8c35-dcaed5f4ebec\", \"degree\": 1, \"x\": 309.0169669239692, \"y\": 951.0565409556126, \"node_shape\": \"dot\", \"color\": \"#8BA8D3\", \"border_width\": 0, \"title\": \"2a396a90-a763-4767-8c35-dcaed5f4ebec\"}, {\"id\": \"bfb8ba7d-bc35-466d-a3c5-912b0189d5f9\", \"degree\": 1, \"x\": -4.3612178183203965e-05, \"y\": 1000.0, \"node_shape\": \"dot\", \"color\": \"#8BA8D3\", \"border_width\": 0, \"title\": \"bfb8ba7d-bc35-466d-a3c5-912b0189d5f9\"}, {\"id\": \"7c994058-768d-4133-bedc-b5808f492a9d\", \"degree\": 1, \"x\": -309.01702633019437, \"y\": 951.056481350969, \"node_shape\": \"dot\", \"color\": \"#8BA8D3\", \"border_width\": 0, \"title\": \"7c994058-768d-4133-bedc-b5808f492a9d\"}, {\"id\": \"b3c49fdb-c6e4-4dff-99fa-fecdbfdf3ae5\", \"degree\": 1, \"x\": -587.7851729562108, \"y\": 809.0170062632316, \"node_shape\": \"dot\", \"color\": \"#8BA8D3\", \"border_width\": 0, \"title\": \"b3c49fdb-c6e4-4dff-99fa-fecdbfdf3ae5\"}, {\"id\": \"4a004789-a60a-4abf-899c-474687857996\", \"degree\": 1, \"x\": -809.0170464963663, \"y\": 587.7851923277198, \"node_shape\": \"dot\", \"color\": \"#8BA8D3\", \"border_width\": 0, \"title\": \"4a004789-a60a-4abf-899c-474687857996\"}, {\"id\": \"08cdcc8b-e668-4f68-a511-020a8d306d34\", \"degree\": 1, \"x\": -951.05646197946, \"y\": 309.01704570170324, \"node_shape\": \"dot\", \"color\": \"#8BA8D3\", \"border_width\": 0, \"title\": \"08cdcc8b-e668-4f68-a511-020a8d306d34\"}, {\"id\": \"tsw0\", \"degree\": 2, \"x\": -999.999980628491, \"y\": -6.8150475237538e-05, \"node_shape\": \"dot\", \"color\": \"#8BA8D3\", \"border_width\": 0, \"title\": \"tsw0\"}, {\"id\": \"sw51\", \"degree\": 3, \"x\": -951.0565215841037, \"y\": -309.0169475524603, \"node_shape\": \"dot\", \"color\": \"#8BA8D3\", \"border_width\": 0, \"title\": \"sw51\"}, {\"id\": \"sw51_bromine\", \"degree\": 1, \"x\": -809.016927287079, \"y\": -587.7853325970515, \"node_shape\": \"dot\", \"color\": \"#8BA8D3\", \"border_width\": 0, \"title\": \"sw51_bromine\"}, {\"id\": \"sw51_test\", \"degree\": 1, \"x\": -587.7850537469236, \"y\": -809.0170869279196, \"node_shape\": \"dot\", \"color\": \"#8BA8D3\", \"border_width\": 0, \"title\": \"sw51_test\"}, {\"id\": \"sw52\", \"degree\": 4, \"x\": -309.01708593483795, \"y\": -951.0564428063698, \"node_shape\": \"dot\", \"color\": \"#8BA8D3\", \"border_width\": 0, \"title\": \"sw52\"}, {\"id\": \"b8cb48eb-8596-475a-ab98-a5fec24afc96\", \"degree\": 1, \"x\": 1.2024089669798168e-05, \"y\": -999.9999614554007, \"node_shape\": \"dot\", \"color\": \"#8BA8D3\", \"border_width\": 0, \"title\": \"b8cb48eb-8596-475a-ab98-a5fec24afc96\"}, {\"id\": \"1ca76354-fb2b-4497-9838-3ff9fb736411\", \"degree\": 1, \"x\": 309.0171159355783, \"y\": -951.0564428063698, \"node_shape\": \"dot\", \"color\": \"#8BA8D3\", \"border_width\": 0, \"title\": \"1ca76354-fb2b-4497-9838-3ff9fb736411\"}, {\"id\": \"sw52_uranium\", \"degree\": 1, \"x\": 587.7850539453422, \"y\": -809.0170869279196, \"node_shape\": \"dot\", \"color\": \"#8BA8D3\", \"border_width\": 0, \"title\": \"sw52_uranium\"}, {\"id\": \"osw0\", \"degree\": 2, \"x\": 809.0169274854976, \"y\": -587.7852729924078, \"node_shape\": \"dot\", \"color\": \"#8BA8D3\", \"border_width\": 0, \"title\": \"osw0\"}, {\"id\": \"osw0_localnet\", \"degree\": 1, \"x\": 951.0565217825223, \"y\": -309.01691775013853, \"node_shape\": \"dot\", \"color\": \"#8BA8D3\", \"border_width\": 0, \"title\": \"osw0_localnet\"}], [{\"source\": 0, \"target\": 10, \"id\": \"['172.31.255.1/30']\"}, {\"source\": 0, \"target\": 18, \"id\": \"['10.53.12.246/24']\"}, {\"source\": 1, \"target\": 2, \"id\": \"['172.31.50.1/24']\"}, {\"source\": 1, \"target\": 10, \"id\": \"['172.31.255.2/30']\"}, {\"source\": 1, \"target\": 11, \"id\": \"['172.31.51.1/24']\"}, {\"source\": 1, \"target\": 14, \"id\": \"['172.31.52.1/24']\"}, {\"source\": 2, \"target\": 3, \"id\": \"\"}, {\"source\": 2, \"target\": 4, \"id\": \"\"}, {\"source\": 2, \"target\": 5, \"id\": \"\"}, {\"source\": 2, \"target\": 6, \"id\": \"\"}, {\"source\": 2, \"target\": 7, \"id\": \"\"}, {\"source\": 2, \"target\": 8, \"id\": \"\"}, {\"source\": 2, \"target\": 9, \"id\": \"\"}, {\"source\": 11, \"target\": 12, \"id\": \"\"}, {\"source\": 11, \"target\": 13, \"id\": \"\"}, {\"source\": 14, \"target\": 15, \"id\": \"\"}, {\"source\": 14, \"target\": 16, \"id\": \"\"}, {\"source\": 14, \"target\": 17, \"id\": \"\"}, {\"source\": 18, \"target\": 19, \"id\": \"\"}]);}</script><iframe name=\"style_file0\" src=\"style_file0.html\" height=\"1200px\" width=\"100%;\"></iframe></body></html>"
      ],
      "text/plain": [
       "<IPython.core.display.HTML object>"
      ]
     },
     "metadata": {},
     "output_type": "display_data"
    },
    {
     "data": {
      "text/html": [
       "<!doctype html><html><head>  <title>Network | Basic usage</title></head><body><script type=\"text/javascript\">function setUpFrame() {     var frame = window.frames[\"style_file0\"];    frame.runVis([{\"id\": \"gr0\", \"degree\": 2, \"x\": 999.9999808269097, \"y\": 1.9272299651099907e-05, \"node_shape\": \"dot\", \"color\": \"#8BA8D3\", \"border_width\": 0, \"title\": \"gr0\"}, {\"id\": \"r0\", \"degree\": 4, \"x\": 951.0565217825223, \"y\": 309.0170158993815, \"node_shape\": \"dot\", \"color\": \"#8BA8D3\", \"border_width\": 0, \"title\": \"r0\"}, {\"id\": \"sw50\", \"degree\": 8, \"x\": 809.0169870901412, \"y\": 587.7852519323634, \"node_shape\": \"dot\", \"color\": \"#8BA8D3\", \"border_width\": 0, \"title\": \"sw50\"}, {\"id\": \"181bd06d-4cd3-416d-a443-0e73ee69f0aa\", \"degree\": 1, \"x\": 587.7852327592731, \"y\": 809.0170062632316, \"node_shape\": \"dot\", \"color\": \"#8BA8D3\", \"border_width\": 0, \"title\": \"181bd06d-4cd3-416d-a443-0e73ee69f0aa\"}, {\"id\": \"2a396a90-a763-4767-8c35-dcaed5f4ebec\", \"degree\": 1, \"x\": 309.0169669239692, \"y\": 951.0565409556126, \"node_shape\": \"dot\", \"color\": \"#8BA8D3\", \"border_width\": 0, \"title\": \"2a396a90-a763-4767-8c35-dcaed5f4ebec\"}, {\"id\": \"bfb8ba7d-bc35-466d-a3c5-912b0189d5f9\", \"degree\": 1, \"x\": -4.3612178183203965e-05, \"y\": 1000.0, \"node_shape\": \"dot\", \"color\": \"#8BA8D3\", \"border_width\": 0, \"title\": \"bfb8ba7d-bc35-466d-a3c5-912b0189d5f9\"}, {\"id\": \"7c994058-768d-4133-bedc-b5808f492a9d\", \"degree\": 1, \"x\": -309.01702633019437, \"y\": 951.056481350969, \"node_shape\": \"dot\", \"color\": \"#8BA8D3\", \"border_width\": 0, \"title\": \"7c994058-768d-4133-bedc-b5808f492a9d\"}, {\"id\": \"b3c49fdb-c6e4-4dff-99fa-fecdbfdf3ae5\", \"degree\": 1, \"x\": -587.7851729562108, \"y\": 809.0170062632316, \"node_shape\": \"dot\", \"color\": \"#8BA8D3\", \"border_width\": 0, \"title\": \"b3c49fdb-c6e4-4dff-99fa-fecdbfdf3ae5\"}, {\"id\": \"4a004789-a60a-4abf-899c-474687857996\", \"degree\": 1, \"x\": -809.0170464963663, \"y\": 587.7851923277198, \"node_shape\": \"dot\", \"color\": \"#8BA8D3\", \"border_width\": 0, \"title\": \"4a004789-a60a-4abf-899c-474687857996\"}, {\"id\": \"08cdcc8b-e668-4f68-a511-020a8d306d34\", \"degree\": 1, \"x\": -951.05646197946, \"y\": 309.01704570170324, \"node_shape\": \"dot\", \"color\": \"#8BA8D3\", \"border_width\": 0, \"title\": \"08cdcc8b-e668-4f68-a511-020a8d306d34\"}, {\"id\": \"tsw0\", \"degree\": 2, \"x\": -999.999980628491, \"y\": -6.8150475237538e-05, \"node_shape\": \"dot\", \"color\": \"#8BA8D3\", \"border_width\": 0, \"title\": \"tsw0\"}, {\"id\": \"sw51\", \"degree\": 3, \"x\": -951.0565215841037, \"y\": -309.0169475524603, \"node_shape\": \"dot\", \"color\": \"#8BA8D3\", \"border_width\": 0, \"title\": \"sw51\"}, {\"id\": \"sw51_bromine\", \"degree\": 1, \"x\": -809.016927287079, \"y\": -587.7853325970515, \"node_shape\": \"dot\", \"color\": \"#8BA8D3\", \"border_width\": 0, \"title\": \"sw51_bromine\"}, {\"id\": \"sw51_test\", \"degree\": 1, \"x\": -587.7850537469236, \"y\": -809.0170869279196, \"node_shape\": \"dot\", \"color\": \"#8BA8D3\", \"border_width\": 0, \"title\": \"sw51_test\"}, {\"id\": \"sw52\", \"degree\": 4, \"x\": -309.01708593483795, \"y\": -951.0564428063698, \"node_shape\": \"dot\", \"color\": \"#8BA8D3\", \"border_width\": 0, \"title\": \"sw52\"}, {\"id\": \"b8cb48eb-8596-475a-ab98-a5fec24afc96\", \"degree\": 1, \"x\": 1.2024089669798168e-05, \"y\": -999.9999614554007, \"node_shape\": \"dot\", \"color\": \"#8BA8D3\", \"border_width\": 0, \"title\": \"b8cb48eb-8596-475a-ab98-a5fec24afc96\"}, {\"id\": \"1ca76354-fb2b-4497-9838-3ff9fb736411\", \"degree\": 1, \"x\": 309.0171159355783, \"y\": -951.0564428063698, \"node_shape\": \"dot\", \"color\": \"#8BA8D3\", \"border_width\": 0, \"title\": \"1ca76354-fb2b-4497-9838-3ff9fb736411\"}, {\"id\": \"sw52_uranium\", \"degree\": 1, \"x\": 587.7850539453422, \"y\": -809.0170869279196, \"node_shape\": \"dot\", \"color\": \"#8BA8D3\", \"border_width\": 0, \"title\": \"sw52_uranium\"}, {\"id\": \"osw0\", \"degree\": 2, \"x\": 809.0169274854976, \"y\": -587.7852729924078, \"node_shape\": \"dot\", \"color\": \"#8BA8D3\", \"border_width\": 0, \"title\": \"osw0\"}, {\"id\": \"osw0_localnet\", \"degree\": 1, \"x\": 951.0565217825223, \"y\": -309.01691775013853, \"node_shape\": \"dot\", \"color\": \"#8BA8D3\", \"border_width\": 0, \"title\": \"osw0_localnet\"}], [{\"source\": 0, \"target\": 10, \"id\": \"['172.31.255.1/30']\"}, {\"source\": 0, \"target\": 18, \"id\": \"['10.53.12.246/24']\"}, {\"source\": 1, \"target\": 2, \"id\": \"['172.31.50.1/24']\"}, {\"source\": 1, \"target\": 10, \"id\": \"['172.31.255.2/30']\"}, {\"source\": 1, \"target\": 11, \"id\": \"['172.31.51.1/24']\"}, {\"source\": 1, \"target\": 14, \"id\": \"['172.31.52.1/24']\"}, {\"source\": 2, \"target\": 3, \"id\": \"\"}, {\"source\": 2, \"target\": 4, \"id\": \"\"}, {\"source\": 2, \"target\": 5, \"id\": \"\"}, {\"source\": 2, \"target\": 6, \"id\": \"\"}, {\"source\": 2, \"target\": 7, \"id\": \"\"}, {\"source\": 2, \"target\": 8, \"id\": \"\"}, {\"source\": 2, \"target\": 9, \"id\": \"\"}, {\"source\": 11, \"target\": 12, \"id\": \"\"}, {\"source\": 11, \"target\": 13, \"id\": \"\"}, {\"source\": 14, \"target\": 15, \"id\": \"\"}, {\"source\": 14, \"target\": 16, \"id\": \"\"}, {\"source\": 14, \"target\": 17, \"id\": \"\"}, {\"source\": 18, \"target\": 19, \"id\": \"\"}]);}</script><iframe name=\"style_file0\" src=\"style_file0.html\" height=\"1200px\" width=\"100%;\"></iframe></body></html>"
      ],
      "text/plain": [
       "<IPython.core.display.HTML object>"
      ]
     },
     "metadata": {},
     "output_type": "display_data"
    },
    {
     "data": {
      "text/html": [
       "<!doctype html><html><head>  <title>Network | Basic usage</title></head><body><script type=\"text/javascript\">function setUpFrame() {     var frame = window.frames[\"style_file0\"];    frame.runVis([{\"id\": \"gr0\", \"degree\": 2, \"x\": 999.9999808269097, \"y\": 1.9272299651099907e-05, \"node_shape\": \"dot\", \"color\": \"#8BA8D3\", \"border_width\": 0, \"title\": \"gr0\"}, {\"id\": \"r0\", \"degree\": 4, \"x\": 951.0565217825223, \"y\": 309.0170158993815, \"node_shape\": \"dot\", \"color\": \"#8BA8D3\", \"border_width\": 0, \"title\": \"r0\"}, {\"id\": \"sw50\", \"degree\": 8, \"x\": 809.0169870901412, \"y\": 587.7852519323634, \"node_shape\": \"dot\", \"color\": \"#8BA8D3\", \"border_width\": 0, \"title\": \"sw50\"}, {\"id\": \"181bd06d-4cd3-416d-a443-0e73ee69f0aa\", \"degree\": 1, \"x\": 587.7852327592731, \"y\": 809.0170062632316, \"node_shape\": \"dot\", \"color\": \"#8BA8D3\", \"border_width\": 0, \"title\": \"181bd06d-4cd3-416d-a443-0e73ee69f0aa\"}, {\"id\": \"2a396a90-a763-4767-8c35-dcaed5f4ebec\", \"degree\": 1, \"x\": 309.0169669239692, \"y\": 951.0565409556126, \"node_shape\": \"dot\", \"color\": \"#8BA8D3\", \"border_width\": 0, \"title\": \"2a396a90-a763-4767-8c35-dcaed5f4ebec\"}, {\"id\": \"bfb8ba7d-bc35-466d-a3c5-912b0189d5f9\", \"degree\": 1, \"x\": -4.3612178183203965e-05, \"y\": 1000.0, \"node_shape\": \"dot\", \"color\": \"#8BA8D3\", \"border_width\": 0, \"title\": \"bfb8ba7d-bc35-466d-a3c5-912b0189d5f9\"}, {\"id\": \"7c994058-768d-4133-bedc-b5808f492a9d\", \"degree\": 1, \"x\": -309.01702633019437, \"y\": 951.056481350969, \"node_shape\": \"dot\", \"color\": \"#8BA8D3\", \"border_width\": 0, \"title\": \"7c994058-768d-4133-bedc-b5808f492a9d\"}, {\"id\": \"b3c49fdb-c6e4-4dff-99fa-fecdbfdf3ae5\", \"degree\": 1, \"x\": -587.7851729562108, \"y\": 809.0170062632316, \"node_shape\": \"dot\", \"color\": \"#8BA8D3\", \"border_width\": 0, \"title\": \"b3c49fdb-c6e4-4dff-99fa-fecdbfdf3ae5\"}, {\"id\": \"4a004789-a60a-4abf-899c-474687857996\", \"degree\": 1, \"x\": -809.0170464963663, \"y\": 587.7851923277198, \"node_shape\": \"dot\", \"color\": \"#8BA8D3\", \"border_width\": 0, \"title\": \"4a004789-a60a-4abf-899c-474687857996\"}, {\"id\": \"08cdcc8b-e668-4f68-a511-020a8d306d34\", \"degree\": 1, \"x\": -951.05646197946, \"y\": 309.01704570170324, \"node_shape\": \"dot\", \"color\": \"#8BA8D3\", \"border_width\": 0, \"title\": \"08cdcc8b-e668-4f68-a511-020a8d306d34\"}, {\"id\": \"tsw0\", \"degree\": 2, \"x\": -999.999980628491, \"y\": -6.8150475237538e-05, \"node_shape\": \"dot\", \"color\": \"#8BA8D3\", \"border_width\": 0, \"title\": \"tsw0\"}, {\"id\": \"sw51\", \"degree\": 3, \"x\": -951.0565215841037, \"y\": -309.0169475524603, \"node_shape\": \"dot\", \"color\": \"#8BA8D3\", \"border_width\": 0, \"title\": \"sw51\"}, {\"id\": \"sw51_bromine\", \"degree\": 1, \"x\": -809.016927287079, \"y\": -587.7853325970515, \"node_shape\": \"dot\", \"color\": \"#8BA8D3\", \"border_width\": 0, \"title\": \"sw51_bromine\"}, {\"id\": \"sw51_test\", \"degree\": 1, \"x\": -587.7850537469236, \"y\": -809.0170869279196, \"node_shape\": \"dot\", \"color\": \"#8BA8D3\", \"border_width\": 0, \"title\": \"sw51_test\"}, {\"id\": \"sw52\", \"degree\": 4, \"x\": -309.01708593483795, \"y\": -951.0564428063698, \"node_shape\": \"dot\", \"color\": \"#8BA8D3\", \"border_width\": 0, \"title\": \"sw52\"}, {\"id\": \"b8cb48eb-8596-475a-ab98-a5fec24afc96\", \"degree\": 1, \"x\": 1.2024089669798168e-05, \"y\": -999.9999614554007, \"node_shape\": \"dot\", \"color\": \"#8BA8D3\", \"border_width\": 0, \"title\": \"b8cb48eb-8596-475a-ab98-a5fec24afc96\"}, {\"id\": \"1ca76354-fb2b-4497-9838-3ff9fb736411\", \"degree\": 1, \"x\": 309.0171159355783, \"y\": -951.0564428063698, \"node_shape\": \"dot\", \"color\": \"#8BA8D3\", \"border_width\": 0, \"title\": \"1ca76354-fb2b-4497-9838-3ff9fb736411\"}, {\"id\": \"sw52_uranium\", \"degree\": 1, \"x\": 587.7850539453422, \"y\": -809.0170869279196, \"node_shape\": \"dot\", \"color\": \"#8BA8D3\", \"border_width\": 0, \"title\": \"sw52_uranium\"}, {\"id\": \"osw0\", \"degree\": 2, \"x\": 809.0169274854976, \"y\": -587.7852729924078, \"node_shape\": \"dot\", \"color\": \"#8BA8D3\", \"border_width\": 0, \"title\": \"osw0\"}, {\"id\": \"osw0_localnet\", \"degree\": 1, \"x\": 951.0565217825223, \"y\": -309.01691775013853, \"node_shape\": \"dot\", \"color\": \"#8BA8D3\", \"border_width\": 0, \"title\": \"osw0_localnet\"}], [{\"source\": 0, \"target\": 10, \"id\": \"['172.31.255.1/30']\"}, {\"source\": 0, \"target\": 18, \"id\": \"['10.53.12.246/24']\"}, {\"source\": 1, \"target\": 2, \"id\": \"['172.31.50.1/24']\"}, {\"source\": 1, \"target\": 10, \"id\": \"['172.31.255.2/30']\"}, {\"source\": 1, \"target\": 11, \"id\": \"['172.31.51.1/24']\"}, {\"source\": 1, \"target\": 14, \"id\": \"['172.31.52.1/24']\"}, {\"source\": 2, \"target\": 3, \"id\": \"\"}, {\"source\": 2, \"target\": 4, \"id\": \"\"}, {\"source\": 2, \"target\": 5, \"id\": \"\"}, {\"source\": 2, \"target\": 6, \"id\": \"\"}, {\"source\": 2, \"target\": 7, \"id\": \"\"}, {\"source\": 2, \"target\": 8, \"id\": \"\"}, {\"source\": 2, \"target\": 9, \"id\": \"\"}, {\"source\": 11, \"target\": 12, \"id\": \"\"}, {\"source\": 11, \"target\": 13, \"id\": \"\"}, {\"source\": 14, \"target\": 15, \"id\": \"\"}, {\"source\": 14, \"target\": 16, \"id\": \"\"}, {\"source\": 14, \"target\": 17, \"id\": \"\"}, {\"source\": 18, \"target\": 19, \"id\": \"\"}]);}</script><iframe name=\"style_file0\" src=\"style_file0.html\" height=\"1200px\" width=\"100%;\"></iframe></body></html>"
      ],
      "text/plain": [
       "<IPython.core.display.HTML object>"
      ]
     },
     "metadata": {},
     "output_type": "display_data"
    }
   ],
   "source": [
    "def on_button_clicked(b):\n",
    "    global graph_output\n",
    "    graph = nx.Graph()\n",
    "    ovsidl = ovsdbapp.backend.ovs_idl.connection.OvsdbIdl.from_server(\"tcp:%s:6641\" % text.value, 'OVN_Northbound')\n",
    "    ovsdb_connection = ovsdbapp.backend.ovs_idl.connection.Connection(idl=ovsidl,timeout=100)\n",
    "    idl = OvnNbApiIdlImpl(ovsdb_connection)\n",
    "    router_ports = routers(idl, graph)\n",
    "    switches(idl, graph, router_ports)\n",
    "    display(render_graph(graph))\n",
    "\n",
    "container = widgets.HBox([text,button])\n",
    "display(container)\n",
    "button.on_click(on_button_clicked)"
   ]
  },
  {
   "cell_type": "markdown",
   "metadata": {},
   "source": [
    "### Resources\n",
    "---\n",
    "\n",
    "#### Jupyter\n",
    "\n",
    "- https://ucsd-ccbb.github.io/visJS2jupyter/\n",
    "- https://networkx.github.io/documentation/stable/index.html\n",
    "- Missing links for ipywidgets, matplotlib\n",
    "\n",
    "#### OVN\n",
    "\n",
    "- https://scottlowe.org/2016/12/09/using-ovn-with-kvm-libvirt/\n",
    "- https://www.pydoc.io/pypi/ovsdbapp-0.9.0/index.html\n",
    "- https://github.com/oVirt/ovirt-provider-ovn\n",
    "- https://github.com/openvswitch/ovs/blob/master/tests/ovn.at\n",
    "- http://blog.spinhirne.com/2016/09/an-introduction-to-ovn-routing.html\n",
    "\n",
    "#### Libvirt Hooks\n",
    "\n",
    "- https://www.libvirt.org/hooks.html\n",
    "- https://github.com/rhardouin/libvirt_hooks"
   ]
  }
 ],
 "metadata": {
  "kernelspec": {
   "display_name": "Python 3",
   "language": "python",
   "name": "python3"
  },
  "language_info": {
   "codemirror_mode": {
    "name": "ipython",
    "version": 3
   },
   "file_extension": ".py",
   "mimetype": "text/x-python",
   "name": "python",
   "nbconvert_exporter": "python",
   "pygments_lexer": "ipython3",
   "version": "3.6.4"
  }
 },
 "nbformat": 4,
 "nbformat_minor": 2
}
