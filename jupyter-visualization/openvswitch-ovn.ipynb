{
 "cells": [
  {
   "cell_type": "markdown",
   "metadata": {},
   "source": [
    "## Using Jupyter Notebook to display Open vSwitch OVN topology\n",
    "---"
   ]
  },
  {
   "cell_type": "markdown",
   "metadata": {},
   "source": [
    "### Running Jupyter in a container\n",
    "\n",
    "Dockerfile.ovn\n",
    "```docker\n",
    "FROM jupyter/minimal-notebook\n",
    "\n",
    "RUN conda install -y ipywidgets matplotlib networkx && \\\n",
    "    pip install py2cytoscape && \\\n",
    "    pip install ovsdbapp visJS2jupyter\n",
    "```\n",
    "\n",
    "Build and start the container\n",
    "```bash\n",
    "sudo docker build -t jupyter-ovn -f Dockerfile.ovn .\n",
    "sudo docker run --rm -d -p 8888:8888 jupyter-ovn start-notebook.sh --NotebookApp.token=''\n",
    "```\n",
    "\n",
    "---"
   ]
  },
  {
   "cell_type": "code",
   "execution_count": null,
   "metadata": {},
   "outputs": [],
   "source": [
    "%matplotlib inline\n",
    "import ovsdbapp.backend.ovs_idl.connection\n",
    "from ovsdbapp.schema.ovn_northbound.impl_idl import OvnNbApiIdlImpl\n",
    "import networkx as nx\n",
    "import matplotlib.pyplot as plt\n",
    "import visJS2jupyter.visJS_module\n",
    "import visJS2jupyter.visualizations\n",
    "import ipywidgets as widgets"
   ]
  },
  {
   "cell_type": "markdown",
   "metadata": {},
   "source": [
    "#### Determining RowView Object parameters\n",
    "\n",
    "The easiest way to determine the available parameters per logical router or switch was to run the\n",
    "commands below.\n",
    "\n",
    "```\n",
    "ovn-nbctl list Logical_Router_Port\n",
    "ovn-nbctl list Logical_Switch_Port\n",
    "ovn-nbctl list Logical_Router_Static_Route\n",
    "```\n",
    "\n",
    "---"
   ]
  },
  {
   "cell_type": "markdown",
   "metadata": {},
   "source": [
    "#### OVN Logical Router\n",
    "\n",
    "List all the `Logical_Router` and `Logical_Router_Port`.\n",
    "\n",
    "---"
   ]
  },
  {
   "cell_type": "code",
   "execution_count": null,
   "metadata": {},
   "outputs": [],
   "source": [
    "def routers(idl, graph):\n",
    "    router_ports = []\n",
    "    for router in idl.lr_list().execute():\n",
    "        graph.add_node(router.name)\n",
    "        for port in router.ports:\n",
    "            router_ports.append({'router': router.name, 'port': port.name, 'networks': port.networks})\n",
    "            \n",
    "    return router_ports"
   ]
  },
  {
   "cell_type": "markdown",
   "metadata": {},
   "source": [
    "#### OVN Logical Switch\n",
    "\n",
    "List all the `Logical_Switch` and `Logical_Switch_Ports`.  If the port type is `router` `add_edge` from the switch to the `router`.  If type is `localnet` in this case its a Layer 2 gateway.  If the type is an empty string then its an endpoint e.g. virtual machine, container, physical node.\n",
    "\n",
    "---"
   ]
  },
  {
   "cell_type": "code",
   "execution_count": null,
   "metadata": {},
   "outputs": [],
   "source": [
    "def switches(idl, graph, router_ports):\n",
    "    for switch in idl.ls_list().execute():\n",
    "        graph.add_node(switch.name)\n",
    "        for port in switch.ports:\n",
    "            if port.type == \"router\":\n",
    "                router_port = port.options['router-port']\n",
    "                r = next(item for item in router_ports if item[\"port\"] == router_port)\n",
    "                graph.add_edge(switch.name, r[\"router\"], network=str(r[\"networks\"]))\n",
    "            if port.type == \"localnet\":\n",
    "                graph.add_node(port.name)\n",
    "                graph.add_edge(switch.name, port.name, network='')\n",
    "            # If type is blank this is most likely an endpoint e.g. virtual machine, container, physical node \n",
    "            if port.type == \"\":\n",
    "                graph.add_node(port.name)\n",
    "                graph.add_edge(switch.name, port.name, network='')"
   ]
  },
  {
   "cell_type": "markdown",
   "metadata": {},
   "source": [
    "#### Render networkx graph using visJS2jupyter"
   ]
  },
  {
   "cell_type": "code",
   "execution_count": null,
   "metadata": {},
   "outputs": [],
   "source": [
    "def render_graph(graph):\n",
    "    graph_title = 'Open Virtual Network Topology'\n",
    "    pos = nx.circular_layout(graph)\n",
    "    nodes = graph.nodes()\n",
    "    edges = graph.edges()\n",
    "    nodes_dict = [{\"id\":n,\n",
    "                   \"degree\":nx.degree(graph,n),\n",
    "                  \"x\":pos[n][0]*1000,\n",
    "                  \"y\":pos[n][1]*1000} for n in nodes\n",
    "                  ]\n",
    "\n",
    "    network = nx.get_edge_attributes(graph, 'network')\n",
    "\n",
    "    node_map = dict(zip(nodes,range(len(nodes))))\n",
    "    edges_dict = [{\"source\":node_map[x], \"target\":node_map[y], \n",
    "                  \"id\":network[(x,y)]} for x,y in edges]\n",
    "\n",
    "    return visJS2jupyter.visJS_module.visjs_network(nodes_dict, edges_dict,\n",
    "                                             graph_title=graph_title, graph_width=800, graph_height=800,\n",
    "                                             border_color='black',\n",
    "                                             node_size_multiplier=7,\n",
    "                                             node_size_transform = '',\n",
    "                                             node_color_highlight_border='red',\n",
    "                                             node_color_highlight_background='#D3918B',\n",
    "                                             node_color_hover_border='blue',\n",
    "                                             node_color_hover_background='#8BADD3',\n",
    "                                             node_font_size=25,\n",
    "                                             edge_arrow_to=False,\n",
    "                                             physics_enabled=True,\n",
    "                                             edge_color_highlight='#8A324E',\n",
    "                                             edge_color_hover='#8BADD3',\n",
    "                                             edge_width=3,\n",
    "                                             edge_font_align='top',\n",
    "                                             edge_font_size=12,\n",
    "                                             max_velocity=15,\n",
    "                                             min_velocity=1)"
   ]
  },
  {
   "cell_type": "code",
   "execution_count": null,
   "metadata": {},
   "outputs": [],
   "source": [
    "text = widgets.Text(description=\"northd:\", value='172.30.1.10', width=200)\n",
    "button = widgets.Button(description=\"Connect\")"
   ]
  },
  {
   "cell_type": "code",
   "execution_count": null,
   "metadata": {
    "scrolled": false
   },
   "outputs": [],
   "source": [
    "def on_button_clicked(b):\n",
    "    global graph_output\n",
    "    graph = nx.Graph()\n",
    "    ovsidl = ovsdbapp.backend.ovs_idl.connection.OvsdbIdl.from_server(\"tcp:%s:6641\" % text.value, 'OVN_Northbound')\n",
    "    ovsdb_connection = ovsdbapp.backend.ovs_idl.connection.Connection(idl=ovsidl,timeout=100)\n",
    "    idl = OvnNbApiIdlImpl(ovsdb_connection)\n",
    "    router_ports = routers(idl, graph)\n",
    "    switches(idl, graph, router_ports)\n",
    "    display(render_graph(graph))\n",
    "\n",
    "container = widgets.HBox([text,button])\n",
    "display(container)\n",
    "button.on_click(on_button_clicked)"
   ]
  }
 ],
 "metadata": {
  "kernelspec": {
   "display_name": "Python 3",
   "language": "python",
   "name": "python3"
  },
  "language_info": {
   "codemirror_mode": {
    "name": "ipython",
    "version": 3
   },
   "file_extension": ".py",
   "mimetype": "text/x-python",
   "name": "python",
   "nbconvert_exporter": "python",
   "pygments_lexer": "ipython3",
   "version": "3.6.4"
  }
 },
 "nbformat": 4,
 "nbformat_minor": 2
}
